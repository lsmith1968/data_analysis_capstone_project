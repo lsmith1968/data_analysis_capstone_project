{
 "cells": [
  {
   "cell_type": "markdown",
   "id": "0909beb2",
   "metadata": {},
   "source": [
    "The name of my capstone project is \"Comparing Tech Salaries by Job Title and Location\""
   ]
  },
  {
   "cell_type": "markdown",
   "id": "813963a7",
   "metadata": {},
   "source": [
    "After setting up my virtual environment and installing the panda and requests packages, I created an initial requirements.txt. I will now begin to access my data from my two sources using the two packages.  I will begin my importing them into my project as as well as StringIO to allow me to treat the string CSV data from the API like a pandas.read_csv() file."
   ]
  },
  {
   "cell_type": "code",
   "execution_count": 3,
   "id": "b9c6b9bc",
   "metadata": {},
   "outputs": [],
   "source": [
    "import pandas as pd"
   ]
  },
  {
   "cell_type": "code",
   "execution_count": 4,
   "id": "e7ffad3d",
   "metadata": {},
   "outputs": [],
   "source": [
    "import requests"
   ]
  },
  {
   "cell_type": "code",
   "execution_count": 5,
   "id": "7551172c",
   "metadata": {},
   "outputs": [],
   "source": [
    "import os\n"
   ]
  },
  {
   "cell_type": "code",
   "execution_count": 6,
   "id": "6ea68963",
   "metadata": {},
   "outputs": [],
   "source": [
    "import json"
   ]
  },
  {
   "cell_type": "code",
   "execution_count": 7,
   "id": "a697f248",
   "metadata": {},
   "outputs": [],
   "source": [
    "import shutil"
   ]
  },
  {
   "cell_type": "code",
   "execution_count": 8,
   "id": "038f89ea",
   "metadata": {},
   "outputs": [],
   "source": [
    "os.makedirs(os.path.expanduser(\"~/.kaggle\"), exist_ok=True)\n",
    "\n",
    "# Write the Kaggle API credentials to kaggle.json\n",
    "kaggle_json_path = os.path.expanduser(\"~/.kaggle/kaggle.json\")\n",
    "with open(kaggle_json_path, \"w\") as f:\n",
    "\tjson.dump({\"username\":\"lisahsmith\",\"key\":\"e095a859cf88a431872e095a6d144bd6\"}, f)\n",
    "\n",
    "os.chmod(kaggle_json_path, 0o600)\n"
   ]
  },
  {
   "cell_type": "markdown",
   "id": "abb28422",
   "metadata": {},
   "source": [
    "Downloading datasets from kaggle and running the Kaggle CLI command to download the dataset.  After downloading, I will extract the zip file"
   ]
  },
  {
   "cell_type": "code",
   "execution_count": 9,
   "id": "8e6f0e0d",
   "metadata": {},
   "outputs": [],
   "source": [
    "import subprocess\n",
    "\n",
    "subprocess.run([\n",
    "    \"kaggle\", \"datasets\", \"download\", \"-d\", \"adilshamim8/salaries-for-data-science-jobs\"\n",
    "])\n",
    "\n",
    "import zipfile\n",
    "\n",
    "with zipfile.ZipFile(\"salaries-for-data-science-jobs.zip\", \"r\") as zip_ref:\n",
    "    zip_ref.extractall(\"ds_salaries\")\n"
   ]
  },
  {
   "cell_type": "code",
   "execution_count": 10,
   "id": "e46c305e",
   "metadata": {},
   "outputs": [
    {
     "data": {
      "application/vnd.microsoft.datawrangler.viewer.v0+json": {
       "columns": [
        {
         "name": "index",
         "rawType": "int64",
         "type": "integer"
        },
        {
         "name": "work_year",
         "rawType": "int64",
         "type": "integer"
        },
        {
         "name": "experience_level",
         "rawType": "object",
         "type": "string"
        },
        {
         "name": "employment_type",
         "rawType": "object",
         "type": "string"
        },
        {
         "name": "job_title",
         "rawType": "object",
         "type": "string"
        },
        {
         "name": "salary",
         "rawType": "int64",
         "type": "integer"
        },
        {
         "name": "salary_currency",
         "rawType": "object",
         "type": "string"
        },
        {
         "name": "salary_in_usd",
         "rawType": "int64",
         "type": "integer"
        },
        {
         "name": "employee_residence",
         "rawType": "object",
         "type": "string"
        },
        {
         "name": "remote_ratio",
         "rawType": "int64",
         "type": "integer"
        },
        {
         "name": "company_location",
         "rawType": "object",
         "type": "string"
        },
        {
         "name": "company_size",
         "rawType": "object",
         "type": "string"
        }
       ],
       "ref": "ef8337f7-a3c8-45f9-93d2-3583ebdfd953",
       "rows": [
        [
         "0",
         "2025",
         "MI",
         "FT",
         "Analyst",
         "142000",
         "USD",
         "142000",
         "US",
         "0",
         "US",
         "M"
        ],
        [
         "1",
         "2025",
         "MI",
         "FT",
         "Analyst",
         "87000",
         "USD",
         "87000",
         "US",
         "0",
         "US",
         "M"
        ],
        [
         "2",
         "2025",
         "SE",
         "FT",
         "Data Quality Lead",
         "218700",
         "USD",
         "218700",
         "US",
         "0",
         "US",
         "M"
        ],
        [
         "3",
         "2025",
         "SE",
         "FT",
         "Data Quality Lead",
         "163200",
         "USD",
         "163200",
         "US",
         "0",
         "US",
         "M"
        ],
        [
         "4",
         "2025",
         "MI",
         "FT",
         "Data Quality Specialist",
         "121524",
         "USD",
         "121524",
         "US",
         "0",
         "US",
         "M"
        ]
       ],
       "shape": {
        "columns": 11,
        "rows": 5
       }
      },
      "text/html": [
       "<div>\n",
       "<style scoped>\n",
       "    .dataframe tbody tr th:only-of-type {\n",
       "        vertical-align: middle;\n",
       "    }\n",
       "\n",
       "    .dataframe tbody tr th {\n",
       "        vertical-align: top;\n",
       "    }\n",
       "\n",
       "    .dataframe thead th {\n",
       "        text-align: right;\n",
       "    }\n",
       "</style>\n",
       "<table border=\"1\" class=\"dataframe\">\n",
       "  <thead>\n",
       "    <tr style=\"text-align: right;\">\n",
       "      <th></th>\n",
       "      <th>work_year</th>\n",
       "      <th>experience_level</th>\n",
       "      <th>employment_type</th>\n",
       "      <th>job_title</th>\n",
       "      <th>salary</th>\n",
       "      <th>salary_currency</th>\n",
       "      <th>salary_in_usd</th>\n",
       "      <th>employee_residence</th>\n",
       "      <th>remote_ratio</th>\n",
       "      <th>company_location</th>\n",
       "      <th>company_size</th>\n",
       "    </tr>\n",
       "  </thead>\n",
       "  <tbody>\n",
       "    <tr>\n",
       "      <th>0</th>\n",
       "      <td>2025</td>\n",
       "      <td>MI</td>\n",
       "      <td>FT</td>\n",
       "      <td>Analyst</td>\n",
       "      <td>142000</td>\n",
       "      <td>USD</td>\n",
       "      <td>142000</td>\n",
       "      <td>US</td>\n",
       "      <td>0</td>\n",
       "      <td>US</td>\n",
       "      <td>M</td>\n",
       "    </tr>\n",
       "    <tr>\n",
       "      <th>1</th>\n",
       "      <td>2025</td>\n",
       "      <td>MI</td>\n",
       "      <td>FT</td>\n",
       "      <td>Analyst</td>\n",
       "      <td>87000</td>\n",
       "      <td>USD</td>\n",
       "      <td>87000</td>\n",
       "      <td>US</td>\n",
       "      <td>0</td>\n",
       "      <td>US</td>\n",
       "      <td>M</td>\n",
       "    </tr>\n",
       "    <tr>\n",
       "      <th>2</th>\n",
       "      <td>2025</td>\n",
       "      <td>SE</td>\n",
       "      <td>FT</td>\n",
       "      <td>Data Quality Lead</td>\n",
       "      <td>218700</td>\n",
       "      <td>USD</td>\n",
       "      <td>218700</td>\n",
       "      <td>US</td>\n",
       "      <td>0</td>\n",
       "      <td>US</td>\n",
       "      <td>M</td>\n",
       "    </tr>\n",
       "    <tr>\n",
       "      <th>3</th>\n",
       "      <td>2025</td>\n",
       "      <td>SE</td>\n",
       "      <td>FT</td>\n",
       "      <td>Data Quality Lead</td>\n",
       "      <td>163200</td>\n",
       "      <td>USD</td>\n",
       "      <td>163200</td>\n",
       "      <td>US</td>\n",
       "      <td>0</td>\n",
       "      <td>US</td>\n",
       "      <td>M</td>\n",
       "    </tr>\n",
       "    <tr>\n",
       "      <th>4</th>\n",
       "      <td>2025</td>\n",
       "      <td>MI</td>\n",
       "      <td>FT</td>\n",
       "      <td>Data Quality Specialist</td>\n",
       "      <td>121524</td>\n",
       "      <td>USD</td>\n",
       "      <td>121524</td>\n",
       "      <td>US</td>\n",
       "      <td>0</td>\n",
       "      <td>US</td>\n",
       "      <td>M</td>\n",
       "    </tr>\n",
       "  </tbody>\n",
       "</table>\n",
       "</div>"
      ],
      "text/plain": [
       "   work_year experience_level employment_type                job_title  \\\n",
       "0       2025               MI              FT                  Analyst   \n",
       "1       2025               MI              FT                  Analyst   \n",
       "2       2025               SE              FT        Data Quality Lead   \n",
       "3       2025               SE              FT        Data Quality Lead   \n",
       "4       2025               MI              FT  Data Quality Specialist   \n",
       "\n",
       "   salary salary_currency  salary_in_usd employee_residence  remote_ratio  \\\n",
       "0  142000             USD         142000                 US             0   \n",
       "1   87000             USD          87000                 US             0   \n",
       "2  218700             USD         218700                 US             0   \n",
       "3  163200             USD         163200                 US             0   \n",
       "4  121524             USD         121524                 US             0   \n",
       "\n",
       "  company_location company_size  \n",
       "0               US            M  \n",
       "1               US            M  \n",
       "2               US            M  \n",
       "3               US            M  \n",
       "4               US            M  "
      ]
     },
     "execution_count": 10,
     "metadata": {},
     "output_type": "execute_result"
    }
   ],
   "source": [
    "import pandas as pd\n",
    "\n",
    "df = pd.read_csv(\"ds_salaries/salaries.csv\")\n",
    "df.head()"
   ]
  },
  {
   "cell_type": "markdown",
   "id": "a34a3039",
   "metadata": {},
   "source": [
    "Writing the Kaggle API credentials to kaggle.json"
   ]
  },
  {
   "cell_type": "code",
   "execution_count": 11,
   "id": "16643a71",
   "metadata": {},
   "outputs": [],
   "source": [
    "import json\n",
    "import shutil\n",
    "\n",
    "import os\n",
    "\n",
    "os.makedirs(os.path.expanduser(\"~/.kaggle\"), exist_ok=True)\n",
    "\n",
    "kaggle_json_path = os.path.expanduser(\"~/.kaggle/kaggle.json\")\n",
    "with open(kaggle_json_path, \"w\") as f:\n",
    "\tjson.dump({\"username\":\"lisahsmith\",\"key\":\"e095a859cf88a431872e095a6d144bd6\"}, f)\n",
    "\n",
    "os.chmod(kaggle_json_path, 0o600)"
   ]
  },
  {
   "cell_type": "code",
   "execution_count": 12,
   "id": "faf53f18",
   "metadata": {},
   "outputs": [],
   "source": [
    "import subprocess\n",
    "\n",
    "subprocess.run([\n",
    "    \"kaggle\", \"datasets\", \"download\", \"-d\", \"ivankmk/thousand-ml-jobs-in-usa\" \n",
    "])\n",
    "\n",
    "with zipfile.ZipFile(\"thousand-ml-jobs-in-usa.zip\", \"r\") as zip_ref:\n",
    "    zip_ref.extractall(\"ml_jobs\")"
   ]
  },
  {
   "cell_type": "code",
   "execution_count": 13,
   "id": "d49fe051",
   "metadata": {},
   "outputs": [],
   "source": [
    "import zipfile\n",
    "\n",
    "with zipfile.ZipFile(\"thousand-ml-jobs-in-usa.zip\", \"r\") as zip_ref:\n",
    "    zip_ref.extractall(\"ml_jobs\")"
   ]
  },
  {
   "cell_type": "code",
   "execution_count": 14,
   "id": "d61a9297",
   "metadata": {},
   "outputs": [
    {
     "data": {
      "application/vnd.microsoft.datawrangler.viewer.v0+json": {
       "columns": [
        {
         "name": "index",
         "rawType": "int64",
         "type": "integer"
        },
        {
         "name": "Unnamed: 0",
         "rawType": "int64",
         "type": "integer"
        },
        {
         "name": "job_posted_date",
         "rawType": "object",
         "type": "string"
        },
        {
         "name": "company_address_locality",
         "rawType": "object",
         "type": "string"
        },
        {
         "name": "company_address_region",
         "rawType": "object",
         "type": "string"
        },
        {
         "name": "company_name",
         "rawType": "object",
         "type": "string"
        },
        {
         "name": "company_website",
         "rawType": "object",
         "type": "string"
        },
        {
         "name": "company_description",
         "rawType": "object",
         "type": "string"
        },
        {
         "name": "job_description_text",
         "rawType": "object",
         "type": "string"
        },
        {
         "name": "seniority_level",
         "rawType": "object",
         "type": "string"
        },
        {
         "name": "job_title",
         "rawType": "object",
         "type": "string"
        }
       ],
       "ref": "a9cc67a1-20f6-42ea-8dcf-67162baac50a",
       "rows": [
        [
         "0",
         "0",
         "2024-10-31",
         "Indianapolis",
         "Indiana",
         "Upper Hand",
         "https://upperhand.com",
         "Upper Hand is the leading provider of full-suite sports management software that enable businesses to achieve more while doing less.\n\nSports facilities, training academies, and businesses - from small enterprises to large franchises - use Upper Hand’s integrated software and payments platform to operate their business more efficiently, increase customer satisfaction, and leverage real-time data for better decision-making. \n\nIts product suite includes features to manage client booking and registration, memberships, staff and facility scheduling, retail, video analysis, and more. For more information on how Upper Hand is reinventing the way business is done in sports and fitness, visit upperhand.com.",
         "OverviewUpper Hand is embarking on an exciting journey to harness the power of machine learning, data science, and AI to enhance sports training and management, and we’re looking for an energetic and talented Machine Learning Engineer and Data Scientist to join our AI Data Science Team. As part of our team, you will be instrumental in building and deploying machine learning models while ensuring they align with real business use cases. You will also leverage your expertise in data science to develop data-driven insights and optimize AI-driven initiatives. This role is ideal for someone who thrives in a fast-paced, collaborative environment, loves solving real-world problems through machine learning, and has a passion for communication and presenting solutions.What You’ll DoBuild, deploy, and maintain scalable machine learning models that solve key business challenges.Work closely with external clients and internal cross-functional teams to translate business needs into machine learning solutions.Collaborate on model deployment and monitoring, ensuring performance and accuracy over time.Develop data pipelines and workflows to ensure data accessibility and readiness for model training.Use data science techniques to extract insights, improve predictions, and drive business decision-making.Create impactful presentations to communicate model results and recommendations to both technical and non-technical audiences.Support continuous improvement by researching and integrating the latest machine learning tools, algorithms, and frameworks.Collaborate with product managers, data engineers, and stakeholders to align machine learning solutions with strategic goals.Who You AreYou’re passionate about machine learning, data science, and using technology to solve complex problems.You have experience building, deploying, and monitoring machine learning models in real-world applications.You possess strong analytical skills with a solid foundation in data science and business intelligence.You are proficient in Python, R, PyTorch, or similar frameworks for model building and deployment.You have experience with data wrangling, feature engineering, and large datasets, using tools such as SQL, pandas, or Spark.You are skilled in cloud platforms such as Databricks, AWS, GCP, or Azure for deploying machine learning models.You enjoy presenting your ideas and solutions to diverse audiences and are excellent at communicating complex technical concepts.You thrive in a collaborative environment, working with A-players to push the boundaries of what’s possible.Education in Data Science, Computer Science / Engineering, Statistics, or related fields is preferred.Bonus: Experience or interest in sports technology and leveraging AI for athletic performance.What Else?Competitive base compensation.Performance-based bonus.Equity/options potential.Comprehensive benefits package, including medical, dental, and vision insurance, and 401kCollaborative workspace with unlimited coffee and healthy snacks.A dynamic, innovative team committed to excellence and pushing the envelope in AI-driven sports solutions.Ready to Apply?If you are excited by the opportunity to build cutting-edge machine learning models and apply your data science expertise in a dynamic sports technology environment, we’d love to hear from you. Join Upper Hand and make a real impact on the future of sports training and management.Let’s achieve greatness together – apply today!",
         "Internship",
         "Internship - Machine Learning Engineer & Data Science"
        ],
        [
         "1",
         "1",
         "2025-03-14",
         "San Francisco",
         "California",
         "Ikigai",
         "https://www.ikigailabs.io",
         "Built upon years of MIT research, Ikigai is a generative AI platform for tabular and time series data. It helps operational teams make faster, better decisions under uncertainty and works with any data: structured or unstructured, clean or dirty, small or big. \n\nUnlock the power of AI within a few clicks to:\n \n- Prep your data with aiMatch\n- Predict with aiCast\n- Do scenario analysis with aiPlan. ",
         "Company DescriptionThe Ikigai platform unlocks the power of generative AI for tabular data. We enable business users to connect disparate data, leverage no-code AI/ML, and build enterprise-wide AI apps in just a few clicks. Ikigai is built on top of its three proprietary foundation blocks developed from years of MIT research - aiMatch, for data reconciliation, aiCast, for prediction, and aiPlan, for scenario planning and optimization. Our platform enables eXpert-in-The-Loop (XiTL) for model reinforcement learning and refinement, at scale.With a combination of enterprise expertise and deep research in the field of AI, Ikigai Labs helps scale enterprises with AI by solving data engineering and modeling problems for business users and data scientists alike. Our unique ability to unlock value in tabular and time series data through AI-powered data harmonization, forecasting, dynamic learning and planning, is our Ikigai, our purpose in the world of AI.As an AI/ML Engineer at Ikigai Labs, you will be part of a high-performing team responsible for optimizing and deploying ML solutions to maximize performance and scalability. We seek a dynamic and passionate engineer with strong software fundamentals and a keen interest in collaborative problem-solving.Key Responsibilities:ML Optimization and Deployment:Develop and deploy machine learning models for optimal performance and scalabilityProductivity Tools Development:Build tools and services to enhance the ML platform, utilizing technologies like Kubernetes, Helm, and EKSModel Architecture:Apply a strong understanding of deep learning architectures (CNNs, RNNs, etc.) to solve complex problemsResearch Adaptation:Stay abreast of recent ML and deep learning literature and adapt findings to real-world applicationsCollaborative Development:Work with cross-functional teams to integrate AI and ML solutions that drive business valueData Handling:Manage large datasets and build ML pipelines for data processing and trainingETL/ELT Processes:Design and develop scalable data integration processesPredictive Modeling Platform:Develop an on-demand predictive modeling platform using gRPCCloud and Containerization:Utilize Kubernetes for managing Docker containers and various cloud services (AWS, Azure) to solve cloud-native challengesStakeholder Management:Provide occasional support to our customer success teamTechnologies We Use:Languages:Python3, C++, Rust, SQLFrameworks:PyTorch, TensorFlow, DockerDatabases:Postgres, Elasticsearch, DynamoDB, RDSCloud:Kubernetes, Helm, EKS, Terraform, AWSData Engineering:Apache Arrow, Dremio, RayMiscellaneous:Git, Jupyterhub, Apache Superset, Plotly DashQualifications:Bachelor’s degree in Computer Science, Math, Engineering, or related field (Master's preferred) with 2+ years of experienceStrong understanding of data structures, data modeling, algorithms, and software architectureProficient in probability, statistics, and algorithm developmentHands-on experience with ML and deep learning libraries (Scikit Learn, Keras, TensorFlow, PyTorch, Theano, DyLib)(Bonus) Experience with big data and distributed computing (Hadoop, MapReduce, Spark, Storm)Proficiency in Python, AWS services, and ETL/ELT pipelinesUnderstanding of key software design principles, design patterns, and testing best practicesExperience with Kubernetes and/or EKS is a plusAbility to learn quickly in a fast-paced, agile environmentExcellent organizational, time management, and communication skillsWillingness to engage in pair programming, share knowledge, and provide and receive constructive feedbackStrong problem-solving skills and the ability to take initiativeEqual Opportunity Employment:Ikigai Labs is committed to equal employment opportunity and non-discrimination for all employees and qualified applicants. We value diversity and are dedicated to fostering an inclusive environment for all employees, regardless of race, color, sex, gender identity or expression, age, religion, national origin, ancestry, citizenship, disability, military or veteran status, genetic information, sexual orientation, marital status, or any other characteristic protected under applicable law.If you are passionate about machine learning and eager to make an impact, we would love to hear from you. Apply today to join the Ikigai Labs team and help us build the future of AI.Powered by JazzHRxjSD1ofxI4",
         "Mid-Senior level",
         "Machine Learning Engineer"
        ],
        [
         "2",
         "2",
         "2025-04-09",
         "San Jose",
         "CA",
         "Adobe",
         "http://www.adobe.com",
         "Adobe is the global leader in digital media and digital marketing solutions. Our creative, marketing and document solutions empower everyone – from emerging artists to global brands – to bring digital creations to life and deliver immersive, compelling experiences to the right person at the right moment for the best results. In short, Adobe is everywhere, and we’re changing the world through digital experiences.",
         "Our CompanyChanging the world through digital experiences is what Adobe’s all about. We give everyone—from emerging artists to global brands—everything they need to design and deliver exceptional digital experiences! We’re passionate about empowering people to create beautiful and powerful images, videos, and apps, and transform how companies interact with customers across every screen.We’re on a mission to hire the very best and are committed to creating exceptional employee experiences where everyone is respected and has access to equal opportunity. We realize that new ideas can come from everywhere in the organization, and we know the next big idea could be yours!The opportunityAs a Senior Machine Learning Engineer with the Adobe Unified Brand Services (UBS) team, you will build and productize novel multi-modal Generative AI-powered solutions through multi-functional partnerships with fellow engineers, product managers, designers, and marketers. By improving upon industry leading experiences, you will address key challenges that arise in marketing content creation at scale, for enterprises' content supply chains.We're building something extraordinary! Our platform service delivers not only highly effective and intricate representations for crafting on-brand content but also provides robust tools to evaluate brand compliance across high-traffic Adobe surfaces, including Adobe GenStudio for Performance Marketers (GS PeM), Adobe Workfront, Adobe Experience Manager (AEM), and more.At Adobe UBS, we believe in the power of human connection. By infusing an enterprise's human element into multi-modal marketing communications across various channels and social media platforms, we enable businesses to forge and nurture lasting relationships and build trust with their customers. We recognize that each brand possesses unique preferences and distinctive qualities that dynamically harmonize with the surrounding marketing context in large volumes of multi-modal content.We are seeking a passionate and driven ML engineer who thrives on challenges and brings deep expertise in generative AI technologies. Make a tremendous impact in our fast-paced, startup-like environment. Come create the future with us!ResponsibilitiesInnovate, lead, design, implement, and deliver innovative algorithmic solutions and exciting new features for addressing business requirements.Conduct analytical experiments using statistical techniques and large vision language model (LLMs, VLMs) research for generative modeling of trends and patterns in data.Craft scalable code for building services involving deep ML algorithms, such as deep learning, in programming languages such as Python, Scala.Directly engage with product managers and collaborators for implementing improvements to and optimizing operational systems for unparalleled scalability, efficiency, and performance.Mentor data scientists and engineers and guide innovative ways.Identify new product engagement opportunities by working closely with collaborators, customers, and team members.What You Need To SucceedMS or PhD in computer science or equivalent experience required. 3+ years of work experience specializing in natural language processing, computer vision, machine learning, statistics, generative AI, or related field. In-depth understanding of probability, statistics and machine learning, NLP or computer vision techniques, and model architectures (e.g., transformers, diffusion models, LLMs, vision language models, etc.)Proficient in data structures, and algorithms, along with software engineering guidelines such as maintaining coding standards, conducting code reviews, testing, and handling build processes. Expert programming skills in Python, as well as familiarity with ML frameworks such as PyTorch. Experience in developing and deploying machine learning solutions such as large language models and building REST APIs to expose their outcomes to UI. Experience with cloud computing platforms such as Azure and AWS and containerization tools, e.g., Docker and Kubernetes. Application Window NoticeIf this role is open to hiring in Colorado (as listed on the job posting), the application window will remain open until at least 12:01 AM Pacific Time, in compliance with Colorado pay transparency regulations. If this role does not have Colorado listed as a hiring location, no specific application window applies, and the posting may close at any time based on hiring needs.Our compensation reflects the cost of labor across several  U.S. geographic markets, and we pay differently based on those defined markets. The U.S. pay range for this position is $142,700 -- $257,600 annually. Pay within this range varies by work location and may also depend on job-related knowledge, skills, and experience. Your recruiter can share more about the specific salary range for the job location during the hiring process.At Adobe, for sales roles starting salaries are expressed as total target compensation (TTC = base + commission), and short-term incentives are in the form of sales commission plans. Non-sales roles starting salaries are expressed as base salary and short-term incentives are in the form of the Annual Incentive Plan (AIP).In addition, certain roles may be eligible for long-term incentives in the form of a new hire equity award.Adobe will consider qualified applicants with arrest or conviction records for employment in accordance with state and local laws and “fair chance” ordinances.Adobe is proud to be an Equal Employment Opportunity and affirmative action employer. We do not discriminate based on gender, race or color, ethnicity or national origin, age, disability, religion, sexual orientation, gender identity or expression, veteran status, or any other applicable characteristics protected by law. Learn more.Adobe aims to make Adobe.com accessible to any and all users. If you have a disability or special need that requires accommodation to navigate our website or complete the application process, email accommodations@adobe.com or call (408) 536-3015.Adobe values a free and open marketplace for all employees and has policies in place to ensure that we do not enter into illegal agreements with other companies to not recruit or hire each other’s employees.",
         "Entry level",
         "Machine Learning Engineer"
        ],
        [
         "3",
         "3",
         "2025-03-22",
         "Mountain View",
         "California",
         "Waymo",
         "https://waymo.com/careers/",
         "On the journey to be the world's most trusted driver. With the Waymo Driver, we can improve mobility while saving thousands of lives. Download the Waymo One app and ride today.\n\nWaymo reaches out to candidates from official channels only (e.g. directly from @waymo.com email addresses, or through our recruiters or sourcers who are noted as such on LinkedIn). We do not contact candidates about career opportunities through instant messaging apps like Telegram, email addresses from domains other than waymo.com (such as Gmail addresses), direct messages on Twitter, Facebook, and Instagram, or text messages. Visit waymo.com to check out our official job listings.",
         "Waymo is an autonomous driving technology company with the mission to be the most trusted driver. Since its start as the Google Self-Driving Car Project in 2009, Waymo has focused on building the Waymo Driver—The World's Most Experienced Driver™—to improve access to mobility while saving thousands of lives now lost to traffic crashes. The Waymo Driver powers Waymo One, a fully autonomous ride-hailing service, and can also be applied to a range of vehicle platforms and product use cases. The Waymo Driver has provided over one million rider-only trips, enabled by its experience autonomously driving tens of millions of miles on public roads and tens of billions in simulation across 13+ U.S. states.The Waymo ML Infrastructure team works with Research and Production teams to develop models in Perception and Planning that are core to our autonomous driving software. We ensure our partners by offering the best solutions for the entire model development lifecycle. These solutions are developed in close collaboration with teams at Google. They are geared towards both scaling models and solving problems unique to ML for autonomous driving.We develop a set of libraries and tools that enhance TensorFlow and JAX, and address scalability, reliability, and performance challenges faced by Waymo's ML practitioners: training fast and at scale, increasing ML accelerator efficiency, fine-tuning multimodal LLMs for autonomous driving tasks, discovering hyper-parameters, retraining neural networks, computing reliable and noiseless metrics on validation sets, and validating newly trained DNNs when deployed into the full onboard software stack.In this hybrid role, you will report to the Technical Lead Manager of Machine Learning Training.You WillDevelop the infrastructure components necessary for distributed training, including job scheduling, resource management, data distribution, and model synchronization.Implement automation solutions for provisioning, deployment, monitoring, and scaling of distributed training infrastructure to improve operations and reliability.Monitor system health, diagnose and troubleshoot issues, and perform routine maintenance tasks to ensure the reliability of the distributed training infrastructure.Identify performance bottlenecks and optimization opportunitiesImprove the developer experience and performance of our scalable ML frameworkYou HaveBachelor's degree in Computer Science, Engineering, or related field, or 2+ years equivalent experienceExperience with distributed systems principles and experience building distributed systems for production environments.Solid Python or C++ skillsPrior experience with Machine Learning frameworks (e.g., TensorFlow, PyTorch) and distributed training algorithmsDebug complex distributed systems issuesExperience communicating updates and resolutions to customers and other partnersWe PreferPractical familiarity using ML accelerator profiling tools to uncover performance bottlenecksFamiliarity with cloud computing platforms (e.g., AWS, Azure, GCP) and experience deploying and managing distributed systems in cloud environmentsKnowledge of optimization and deep learning algorithmsThe expected base salary range for this full-time position across US locations is listed below. Actual starting pay will be based on job-related factors, including exact work location, experience, relevant training and education, and skill level. Your recruiter can share more about the specific salary range for the role location or, if the role can be performed remote, the specific salary range for your preferred location, during the hiring process.Waymo employees are also eligible to participate in Waymo’s discretionary annual bonus program, equity incentive plan, and generous Company benefits program, subject to eligibility requirements.Salary Range$170,000—$216,000 USD",
         "Entry level",
         "Machine Learning Engineer, Training"
        ],
        [
         "4",
         "4",
         "2025-03-28",
         "Boston",
         "Massachusetts",
         "HMH",
         "http://www.hmhco.com",
         "We are an adaptive learning company that empowers educators. With a focus on what moves each learner, HMH delivers what teachers need to foster growth and build lasting momentum for all students. We create integrated K-12 learning solutions for core, supplemental, intervention, assessment, and professional learning--delivered on one streamlined platform. Our technology adapts to every learning environment, uncovering smarter insights about students and helping educators act on what motivates them.  ​​\n\n- 90% of U.S. K-12 schools use HMH programs.  ​​\n- 50 million students in 150 countries use HMH's research-backed learning programs.  ​​\n- 1.9 average years of student growth can be gained in one year by using HMH intervention solutions.  ​​\n\nLearn how HMH can help improve growth for every student in your district.  ",
         "Job Title: Machine Learning EngineerLocation: RemoteWho We AreNWEA® is a division of Houghton Mifflin Harcourt that supports students and educators through research, assessment solutions, policy and advocacy services, professional learning and school improvement services that fight for equity, drive classroom impact and push for systemic change in our educational communities. For nearly 50 years, NWEA has developed innovative pre-K–12 assessments, including their flagship interim assessment, MAP® Growth™ and their reading fluency and comprehension assessment, MAP® Reading Fluency™. For more information, visit NWEA.org to learn more.What You Will DoThe Machine Learning Engineer (ML engineer) contributes to the design, development, and deployment of real-world machine learning systems that facilitate and accelerate advanced AI solutions at scale. Machine learning engineers manage aspects of the machine learning pipeline, including sourcing and preparing data, building, and training models, and deploying to and monitoring models in production.ResponsibilitiesManage, maintain, scale, and improve machine learning models already running in production environments.Design, test, and deploy models to production, initially as a prototype, and then as an API that can serve predictions for end users.Design, run, and evaluate machine learning tests and experiments.Optimize and tweak machine learning models according to how they behave in production.Use CI/CD processes throughout the model development lifecycle to develop higher quality code and models without disruption to production. Provide technical support to data and product teams, helping relevant parties use and understand machine learning systems and datasets.Education And ExperienceMasters or Ph.D. in computer science, engineering, or quantitative field.2-3 years of hands-on experience in machine learning, data science, and analytics.Proficient with tools for machine learning pipeline management and monitoring (e.g., SageMaker, MLflow, Kubeflow).Proficient with machine learning algorithms, architectures, programming languages (e.g., Python, C++, R), and libraries (e.g., PyTorch, TensorFlow).Proficient with SQL and analytical warehouses (e.g., Snowflake).Familiarity with automation and deployment (e.g., Jenkins, GitHub actions, Concourse, etc.) and infrastructure as code (e.g., Terraform) technologies.Employed distributed processing frameworks such as Spark and Dask and has interacted with cloud platforms and container technologies.Practical knowledge of software engineering concepts and best practices, like testing frameworks, packaging, API design, DevOps, DataOps and MLOps.Excellent problem-solving skills and easily adapt to new technologies, trends, and frameworks.Demonstrated ability to elevate the machine learning discipline and foster a collaborative and high-performing environment.Salary range: 100k – 120k.Application DeadlineThe application window for this position is anticipated to close on March 31, 2025. We encourage you to apply as soon as possible. The posting may be available past this date but is not guaranteed.HMH is fully committed to Equal Employment Opportunity and to attracting, retaining, developing and promoting the most qualified employees without regard to race, gender, color, religion, sexual orientation, family status, marital status, pregnancy, gender identity, ethnic/national origin, ancestry, age, disability, military status, genetic predisposition, citizenship status, status as a disabled veteran, recently separated veteran, Armed Forces service medal veteran, other covered veteran, or any other characteristic protected by federal, state or local law. We are dedicated to providing a work environment free from discrimination and harassment, and where employees are treated with respect and dignity. We actively participate in E-Verify.",
         "Mid-Senior level",
         "Machine Learning Engineer"
        ]
       ],
       "shape": {
        "columns": 10,
        "rows": 5
       }
      },
      "text/html": [
       "<div>\n",
       "<style scoped>\n",
       "    .dataframe tbody tr th:only-of-type {\n",
       "        vertical-align: middle;\n",
       "    }\n",
       "\n",
       "    .dataframe tbody tr th {\n",
       "        vertical-align: top;\n",
       "    }\n",
       "\n",
       "    .dataframe thead th {\n",
       "        text-align: right;\n",
       "    }\n",
       "</style>\n",
       "<table border=\"1\" class=\"dataframe\">\n",
       "  <thead>\n",
       "    <tr style=\"text-align: right;\">\n",
       "      <th></th>\n",
       "      <th>Unnamed: 0</th>\n",
       "      <th>job_posted_date</th>\n",
       "      <th>company_address_locality</th>\n",
       "      <th>company_address_region</th>\n",
       "      <th>company_name</th>\n",
       "      <th>company_website</th>\n",
       "      <th>company_description</th>\n",
       "      <th>job_description_text</th>\n",
       "      <th>seniority_level</th>\n",
       "      <th>job_title</th>\n",
       "    </tr>\n",
       "  </thead>\n",
       "  <tbody>\n",
       "    <tr>\n",
       "      <th>0</th>\n",
       "      <td>0</td>\n",
       "      <td>2024-10-31</td>\n",
       "      <td>Indianapolis</td>\n",
       "      <td>Indiana</td>\n",
       "      <td>Upper Hand</td>\n",
       "      <td>https://upperhand.com</td>\n",
       "      <td>Upper Hand is the leading provider of full-sui...</td>\n",
       "      <td>OverviewUpper Hand is embarking on an exciting...</td>\n",
       "      <td>Internship</td>\n",
       "      <td>Internship - Machine Learning Engineer &amp; Data ...</td>\n",
       "    </tr>\n",
       "    <tr>\n",
       "      <th>1</th>\n",
       "      <td>1</td>\n",
       "      <td>2025-03-14</td>\n",
       "      <td>San Francisco</td>\n",
       "      <td>California</td>\n",
       "      <td>Ikigai</td>\n",
       "      <td>https://www.ikigailabs.io</td>\n",
       "      <td>Built upon years of MIT research, Ikigai is a ...</td>\n",
       "      <td>Company DescriptionThe Ikigai platform unlocks...</td>\n",
       "      <td>Mid-Senior level</td>\n",
       "      <td>Machine Learning Engineer</td>\n",
       "    </tr>\n",
       "    <tr>\n",
       "      <th>2</th>\n",
       "      <td>2</td>\n",
       "      <td>2025-04-09</td>\n",
       "      <td>San Jose</td>\n",
       "      <td>CA</td>\n",
       "      <td>Adobe</td>\n",
       "      <td>http://www.adobe.com</td>\n",
       "      <td>Adobe is the global leader in digital media an...</td>\n",
       "      <td>Our CompanyChanging the world through digital ...</td>\n",
       "      <td>Entry level</td>\n",
       "      <td>Machine Learning Engineer</td>\n",
       "    </tr>\n",
       "    <tr>\n",
       "      <th>3</th>\n",
       "      <td>3</td>\n",
       "      <td>2025-03-22</td>\n",
       "      <td>Mountain View</td>\n",
       "      <td>California</td>\n",
       "      <td>Waymo</td>\n",
       "      <td>https://waymo.com/careers/</td>\n",
       "      <td>On the journey to be the world's most trusted ...</td>\n",
       "      <td>Waymo is an autonomous driving technology comp...</td>\n",
       "      <td>Entry level</td>\n",
       "      <td>Machine Learning Engineer, Training</td>\n",
       "    </tr>\n",
       "    <tr>\n",
       "      <th>4</th>\n",
       "      <td>4</td>\n",
       "      <td>2025-03-28</td>\n",
       "      <td>Boston</td>\n",
       "      <td>Massachusetts</td>\n",
       "      <td>HMH</td>\n",
       "      <td>http://www.hmhco.com</td>\n",
       "      <td>We are an adaptive learning company that empow...</td>\n",
       "      <td>Job Title: Machine Learning EngineerLocation: ...</td>\n",
       "      <td>Mid-Senior level</td>\n",
       "      <td>Machine Learning Engineer</td>\n",
       "    </tr>\n",
       "  </tbody>\n",
       "</table>\n",
       "</div>"
      ],
      "text/plain": [
       "   Unnamed: 0 job_posted_date company_address_locality company_address_region  \\\n",
       "0           0      2024-10-31             Indianapolis                Indiana   \n",
       "1           1      2025-03-14            San Francisco             California   \n",
       "2           2      2025-04-09                 San Jose                     CA   \n",
       "3           3      2025-03-22            Mountain View             California   \n",
       "4           4      2025-03-28                   Boston          Massachusetts   \n",
       "\n",
       "  company_name             company_website  \\\n",
       "0   Upper Hand       https://upperhand.com   \n",
       "1       Ikigai   https://www.ikigailabs.io   \n",
       "2        Adobe        http://www.adobe.com   \n",
       "3        Waymo  https://waymo.com/careers/   \n",
       "4          HMH        http://www.hmhco.com   \n",
       "\n",
       "                                 company_description  \\\n",
       "0  Upper Hand is the leading provider of full-sui...   \n",
       "1  Built upon years of MIT research, Ikigai is a ...   \n",
       "2  Adobe is the global leader in digital media an...   \n",
       "3  On the journey to be the world's most trusted ...   \n",
       "4  We are an adaptive learning company that empow...   \n",
       "\n",
       "                                job_description_text   seniority_level  \\\n",
       "0  OverviewUpper Hand is embarking on an exciting...        Internship   \n",
       "1  Company DescriptionThe Ikigai platform unlocks...  Mid-Senior level   \n",
       "2  Our CompanyChanging the world through digital ...       Entry level   \n",
       "3  Waymo is an autonomous driving technology comp...       Entry level   \n",
       "4  Job Title: Machine Learning EngineerLocation: ...  Mid-Senior level   \n",
       "\n",
       "                                           job_title  \n",
       "0  Internship - Machine Learning Engineer & Data ...  \n",
       "1                          Machine Learning Engineer  \n",
       "2                          Machine Learning Engineer  \n",
       "3                Machine Learning Engineer, Training  \n",
       "4                          Machine Learning Engineer  "
      ]
     },
     "execution_count": 14,
     "metadata": {},
     "output_type": "execute_result"
    }
   ],
   "source": [
    "import pandas as pd\n",
    "\n",
    "df = pd.read_csv(\"ml_jobs/1000_ml_jobs_us.csv\")\n",
    "df.head()"
   ]
  },
  {
   "cell_type": "markdown",
   "id": "bacb5707",
   "metadata": {},
   "source": [
    "Since I named both databases df, I am reloading the both databases and renaming each of them.  "
   ]
  },
  {
   "cell_type": "code",
   "execution_count": 15,
   "id": "4369cc99",
   "metadata": {},
   "outputs": [
    {
     "data": {
      "application/vnd.microsoft.datawrangler.viewer.v0+json": {
       "columns": [
        {
         "name": "index",
         "rawType": "int64",
         "type": "integer"
        },
        {
         "name": "work_year",
         "rawType": "int64",
         "type": "integer"
        },
        {
         "name": "experience_level",
         "rawType": "object",
         "type": "string"
        },
        {
         "name": "employment_type",
         "rawType": "object",
         "type": "string"
        },
        {
         "name": "job_title",
         "rawType": "object",
         "type": "string"
        },
        {
         "name": "salary",
         "rawType": "int64",
         "type": "integer"
        },
        {
         "name": "salary_currency",
         "rawType": "object",
         "type": "string"
        },
        {
         "name": "salary_in_usd",
         "rawType": "int64",
         "type": "integer"
        },
        {
         "name": "employee_residence",
         "rawType": "object",
         "type": "string"
        },
        {
         "name": "remote_ratio",
         "rawType": "int64",
         "type": "integer"
        },
        {
         "name": "company_location",
         "rawType": "object",
         "type": "string"
        },
        {
         "name": "company_size",
         "rawType": "object",
         "type": "string"
        }
       ],
       "ref": "d28ffbe8-7900-42a8-8bb3-d07779233d3e",
       "rows": [
        [
         "0",
         "2025",
         "MI",
         "FT",
         "Analyst",
         "142000",
         "USD",
         "142000",
         "US",
         "0",
         "US",
         "M"
        ],
        [
         "1",
         "2025",
         "MI",
         "FT",
         "Analyst",
         "87000",
         "USD",
         "87000",
         "US",
         "0",
         "US",
         "M"
        ],
        [
         "2",
         "2025",
         "SE",
         "FT",
         "Data Quality Lead",
         "218700",
         "USD",
         "218700",
         "US",
         "0",
         "US",
         "M"
        ],
        [
         "3",
         "2025",
         "SE",
         "FT",
         "Data Quality Lead",
         "163200",
         "USD",
         "163200",
         "US",
         "0",
         "US",
         "M"
        ],
        [
         "4",
         "2025",
         "MI",
         "FT",
         "Data Quality Specialist",
         "121524",
         "USD",
         "121524",
         "US",
         "0",
         "US",
         "M"
        ]
       ],
       "shape": {
        "columns": 11,
        "rows": 5
       }
      },
      "text/html": [
       "<div>\n",
       "<style scoped>\n",
       "    .dataframe tbody tr th:only-of-type {\n",
       "        vertical-align: middle;\n",
       "    }\n",
       "\n",
       "    .dataframe tbody tr th {\n",
       "        vertical-align: top;\n",
       "    }\n",
       "\n",
       "    .dataframe thead th {\n",
       "        text-align: right;\n",
       "    }\n",
       "</style>\n",
       "<table border=\"1\" class=\"dataframe\">\n",
       "  <thead>\n",
       "    <tr style=\"text-align: right;\">\n",
       "      <th></th>\n",
       "      <th>work_year</th>\n",
       "      <th>experience_level</th>\n",
       "      <th>employment_type</th>\n",
       "      <th>job_title</th>\n",
       "      <th>salary</th>\n",
       "      <th>salary_currency</th>\n",
       "      <th>salary_in_usd</th>\n",
       "      <th>employee_residence</th>\n",
       "      <th>remote_ratio</th>\n",
       "      <th>company_location</th>\n",
       "      <th>company_size</th>\n",
       "    </tr>\n",
       "  </thead>\n",
       "  <tbody>\n",
       "    <tr>\n",
       "      <th>0</th>\n",
       "      <td>2025</td>\n",
       "      <td>MI</td>\n",
       "      <td>FT</td>\n",
       "      <td>Analyst</td>\n",
       "      <td>142000</td>\n",
       "      <td>USD</td>\n",
       "      <td>142000</td>\n",
       "      <td>US</td>\n",
       "      <td>0</td>\n",
       "      <td>US</td>\n",
       "      <td>M</td>\n",
       "    </tr>\n",
       "    <tr>\n",
       "      <th>1</th>\n",
       "      <td>2025</td>\n",
       "      <td>MI</td>\n",
       "      <td>FT</td>\n",
       "      <td>Analyst</td>\n",
       "      <td>87000</td>\n",
       "      <td>USD</td>\n",
       "      <td>87000</td>\n",
       "      <td>US</td>\n",
       "      <td>0</td>\n",
       "      <td>US</td>\n",
       "      <td>M</td>\n",
       "    </tr>\n",
       "    <tr>\n",
       "      <th>2</th>\n",
       "      <td>2025</td>\n",
       "      <td>SE</td>\n",
       "      <td>FT</td>\n",
       "      <td>Data Quality Lead</td>\n",
       "      <td>218700</td>\n",
       "      <td>USD</td>\n",
       "      <td>218700</td>\n",
       "      <td>US</td>\n",
       "      <td>0</td>\n",
       "      <td>US</td>\n",
       "      <td>M</td>\n",
       "    </tr>\n",
       "    <tr>\n",
       "      <th>3</th>\n",
       "      <td>2025</td>\n",
       "      <td>SE</td>\n",
       "      <td>FT</td>\n",
       "      <td>Data Quality Lead</td>\n",
       "      <td>163200</td>\n",
       "      <td>USD</td>\n",
       "      <td>163200</td>\n",
       "      <td>US</td>\n",
       "      <td>0</td>\n",
       "      <td>US</td>\n",
       "      <td>M</td>\n",
       "    </tr>\n",
       "    <tr>\n",
       "      <th>4</th>\n",
       "      <td>2025</td>\n",
       "      <td>MI</td>\n",
       "      <td>FT</td>\n",
       "      <td>Data Quality Specialist</td>\n",
       "      <td>121524</td>\n",
       "      <td>USD</td>\n",
       "      <td>121524</td>\n",
       "      <td>US</td>\n",
       "      <td>0</td>\n",
       "      <td>US</td>\n",
       "      <td>M</td>\n",
       "    </tr>\n",
       "  </tbody>\n",
       "</table>\n",
       "</div>"
      ],
      "text/plain": [
       "   work_year experience_level employment_type                job_title  \\\n",
       "0       2025               MI              FT                  Analyst   \n",
       "1       2025               MI              FT                  Analyst   \n",
       "2       2025               SE              FT        Data Quality Lead   \n",
       "3       2025               SE              FT        Data Quality Lead   \n",
       "4       2025               MI              FT  Data Quality Specialist   \n",
       "\n",
       "   salary salary_currency  salary_in_usd employee_residence  remote_ratio  \\\n",
       "0  142000             USD         142000                 US             0   \n",
       "1   87000             USD          87000                 US             0   \n",
       "2  218700             USD         218700                 US             0   \n",
       "3  163200             USD         163200                 US             0   \n",
       "4  121524             USD         121524                 US             0   \n",
       "\n",
       "  company_location company_size  \n",
       "0               US            M  \n",
       "1               US            M  \n",
       "2               US            M  \n",
       "3               US            M  \n",
       "4               US            M  "
      ]
     },
     "execution_count": 15,
     "metadata": {},
     "output_type": "execute_result"
    }
   ],
   "source": [
    "import pandas as pd\n",
    "\n",
    "salaries_df = pd.read_csv(\"ds_salaries/salaries.csv\")\n",
    "salaries_df.head()\n"
   ]
  },
  {
   "cell_type": "code",
   "execution_count": 25,
   "id": "b8da58e5",
   "metadata": {},
   "outputs": [
    {
     "data": {
      "application/vnd.microsoft.datawrangler.viewer.v0+json": {
       "columns": [
        {
         "name": "index",
         "rawType": "int64",
         "type": "integer"
        },
        {
         "name": "Unnamed: 0",
         "rawType": "int64",
         "type": "integer"
        },
        {
         "name": "job_posted_date",
         "rawType": "object",
         "type": "string"
        },
        {
         "name": "company_address_locality",
         "rawType": "object",
         "type": "string"
        },
        {
         "name": "company_address_region",
         "rawType": "object",
         "type": "string"
        },
        {
         "name": "company_name",
         "rawType": "object",
         "type": "string"
        },
        {
         "name": "company_website",
         "rawType": "object",
         "type": "string"
        },
        {
         "name": "company_description",
         "rawType": "object",
         "type": "string"
        },
        {
         "name": "job_description_text",
         "rawType": "object",
         "type": "string"
        },
        {
         "name": "seniority_level",
         "rawType": "object",
         "type": "string"
        },
        {
         "name": "job_title",
         "rawType": "object",
         "type": "string"
        }
       ],
       "ref": "9fe11504-74c0-4b8b-8db6-20b9938273ce",
       "rows": [
        [
         "0",
         "0",
         "2024-10-31",
         "Indianapolis",
         "Indiana",
         "Upper Hand",
         "https://upperhand.com",
         "Upper Hand is the leading provider of full-suite sports management software that enable businesses to achieve more while doing less.\n\nSports facilities, training academies, and businesses - from small enterprises to large franchises - use Upper Hand’s integrated software and payments platform to operate their business more efficiently, increase customer satisfaction, and leverage real-time data for better decision-making. \n\nIts product suite includes features to manage client booking and registration, memberships, staff and facility scheduling, retail, video analysis, and more. For more information on how Upper Hand is reinventing the way business is done in sports and fitness, visit upperhand.com.",
         "OverviewUpper Hand is embarking on an exciting journey to harness the power of machine learning, data science, and AI to enhance sports training and management, and we’re looking for an energetic and talented Machine Learning Engineer and Data Scientist to join our AI Data Science Team. As part of our team, you will be instrumental in building and deploying machine learning models while ensuring they align with real business use cases. You will also leverage your expertise in data science to develop data-driven insights and optimize AI-driven initiatives. This role is ideal for someone who thrives in a fast-paced, collaborative environment, loves solving real-world problems through machine learning, and has a passion for communication and presenting solutions.What You’ll DoBuild, deploy, and maintain scalable machine learning models that solve key business challenges.Work closely with external clients and internal cross-functional teams to translate business needs into machine learning solutions.Collaborate on model deployment and monitoring, ensuring performance and accuracy over time.Develop data pipelines and workflows to ensure data accessibility and readiness for model training.Use data science techniques to extract insights, improve predictions, and drive business decision-making.Create impactful presentations to communicate model results and recommendations to both technical and non-technical audiences.Support continuous improvement by researching and integrating the latest machine learning tools, algorithms, and frameworks.Collaborate with product managers, data engineers, and stakeholders to align machine learning solutions with strategic goals.Who You AreYou’re passionate about machine learning, data science, and using technology to solve complex problems.You have experience building, deploying, and monitoring machine learning models in real-world applications.You possess strong analytical skills with a solid foundation in data science and business intelligence.You are proficient in Python, R, PyTorch, or similar frameworks for model building and deployment.You have experience with data wrangling, feature engineering, and large datasets, using tools such as SQL, pandas, or Spark.You are skilled in cloud platforms such as Databricks, AWS, GCP, or Azure for deploying machine learning models.You enjoy presenting your ideas and solutions to diverse audiences and are excellent at communicating complex technical concepts.You thrive in a collaborative environment, working with A-players to push the boundaries of what’s possible.Education in Data Science, Computer Science / Engineering, Statistics, or related fields is preferred.Bonus: Experience or interest in sports technology and leveraging AI for athletic performance.What Else?Competitive base compensation.Performance-based bonus.Equity/options potential.Comprehensive benefits package, including medical, dental, and vision insurance, and 401kCollaborative workspace with unlimited coffee and healthy snacks.A dynamic, innovative team committed to excellence and pushing the envelope in AI-driven sports solutions.Ready to Apply?If you are excited by the opportunity to build cutting-edge machine learning models and apply your data science expertise in a dynamic sports technology environment, we’d love to hear from you. Join Upper Hand and make a real impact on the future of sports training and management.Let’s achieve greatness together – apply today!",
         "Internship",
         "Internship - Machine Learning Engineer & Data Science"
        ],
        [
         "1",
         "1",
         "2025-03-14",
         "San Francisco",
         "California",
         "Ikigai",
         "https://www.ikigailabs.io",
         "Built upon years of MIT research, Ikigai is a generative AI platform for tabular and time series data. It helps operational teams make faster, better decisions under uncertainty and works with any data: structured or unstructured, clean or dirty, small or big. \n\nUnlock the power of AI within a few clicks to:\n \n- Prep your data with aiMatch\n- Predict with aiCast\n- Do scenario analysis with aiPlan. ",
         "Company DescriptionThe Ikigai platform unlocks the power of generative AI for tabular data. We enable business users to connect disparate data, leverage no-code AI/ML, and build enterprise-wide AI apps in just a few clicks. Ikigai is built on top of its three proprietary foundation blocks developed from years of MIT research - aiMatch, for data reconciliation, aiCast, for prediction, and aiPlan, for scenario planning and optimization. Our platform enables eXpert-in-The-Loop (XiTL) for model reinforcement learning and refinement, at scale.With a combination of enterprise expertise and deep research in the field of AI, Ikigai Labs helps scale enterprises with AI by solving data engineering and modeling problems for business users and data scientists alike. Our unique ability to unlock value in tabular and time series data through AI-powered data harmonization, forecasting, dynamic learning and planning, is our Ikigai, our purpose in the world of AI.As an AI/ML Engineer at Ikigai Labs, you will be part of a high-performing team responsible for optimizing and deploying ML solutions to maximize performance and scalability. We seek a dynamic and passionate engineer with strong software fundamentals and a keen interest in collaborative problem-solving.Key Responsibilities:ML Optimization and Deployment:Develop and deploy machine learning models for optimal performance and scalabilityProductivity Tools Development:Build tools and services to enhance the ML platform, utilizing technologies like Kubernetes, Helm, and EKSModel Architecture:Apply a strong understanding of deep learning architectures (CNNs, RNNs, etc.) to solve complex problemsResearch Adaptation:Stay abreast of recent ML and deep learning literature and adapt findings to real-world applicationsCollaborative Development:Work with cross-functional teams to integrate AI and ML solutions that drive business valueData Handling:Manage large datasets and build ML pipelines for data processing and trainingETL/ELT Processes:Design and develop scalable data integration processesPredictive Modeling Platform:Develop an on-demand predictive modeling platform using gRPCCloud and Containerization:Utilize Kubernetes for managing Docker containers and various cloud services (AWS, Azure) to solve cloud-native challengesStakeholder Management:Provide occasional support to our customer success teamTechnologies We Use:Languages:Python3, C++, Rust, SQLFrameworks:PyTorch, TensorFlow, DockerDatabases:Postgres, Elasticsearch, DynamoDB, RDSCloud:Kubernetes, Helm, EKS, Terraform, AWSData Engineering:Apache Arrow, Dremio, RayMiscellaneous:Git, Jupyterhub, Apache Superset, Plotly DashQualifications:Bachelor’s degree in Computer Science, Math, Engineering, or related field (Master's preferred) with 2+ years of experienceStrong understanding of data structures, data modeling, algorithms, and software architectureProficient in probability, statistics, and algorithm developmentHands-on experience with ML and deep learning libraries (Scikit Learn, Keras, TensorFlow, PyTorch, Theano, DyLib)(Bonus) Experience with big data and distributed computing (Hadoop, MapReduce, Spark, Storm)Proficiency in Python, AWS services, and ETL/ELT pipelinesUnderstanding of key software design principles, design patterns, and testing best practicesExperience with Kubernetes and/or EKS is a plusAbility to learn quickly in a fast-paced, agile environmentExcellent organizational, time management, and communication skillsWillingness to engage in pair programming, share knowledge, and provide and receive constructive feedbackStrong problem-solving skills and the ability to take initiativeEqual Opportunity Employment:Ikigai Labs is committed to equal employment opportunity and non-discrimination for all employees and qualified applicants. We value diversity and are dedicated to fostering an inclusive environment for all employees, regardless of race, color, sex, gender identity or expression, age, religion, national origin, ancestry, citizenship, disability, military or veteran status, genetic information, sexual orientation, marital status, or any other characteristic protected under applicable law.If you are passionate about machine learning and eager to make an impact, we would love to hear from you. Apply today to join the Ikigai Labs team and help us build the future of AI.Powered by JazzHRxjSD1ofxI4",
         "Mid-Senior level",
         "Machine Learning Engineer"
        ],
        [
         "2",
         "2",
         "2025-04-09",
         "San Jose",
         "CA",
         "Adobe",
         "http://www.adobe.com",
         "Adobe is the global leader in digital media and digital marketing solutions. Our creative, marketing and document solutions empower everyone – from emerging artists to global brands – to bring digital creations to life and deliver immersive, compelling experiences to the right person at the right moment for the best results. In short, Adobe is everywhere, and we’re changing the world through digital experiences.",
         "Our CompanyChanging the world through digital experiences is what Adobe’s all about. We give everyone—from emerging artists to global brands—everything they need to design and deliver exceptional digital experiences! We’re passionate about empowering people to create beautiful and powerful images, videos, and apps, and transform how companies interact with customers across every screen.We’re on a mission to hire the very best and are committed to creating exceptional employee experiences where everyone is respected and has access to equal opportunity. We realize that new ideas can come from everywhere in the organization, and we know the next big idea could be yours!The opportunityAs a Senior Machine Learning Engineer with the Adobe Unified Brand Services (UBS) team, you will build and productize novel multi-modal Generative AI-powered solutions through multi-functional partnerships with fellow engineers, product managers, designers, and marketers. By improving upon industry leading experiences, you will address key challenges that arise in marketing content creation at scale, for enterprises' content supply chains.We're building something extraordinary! Our platform service delivers not only highly effective and intricate representations for crafting on-brand content but also provides robust tools to evaluate brand compliance across high-traffic Adobe surfaces, including Adobe GenStudio for Performance Marketers (GS PeM), Adobe Workfront, Adobe Experience Manager (AEM), and more.At Adobe UBS, we believe in the power of human connection. By infusing an enterprise's human element into multi-modal marketing communications across various channels and social media platforms, we enable businesses to forge and nurture lasting relationships and build trust with their customers. We recognize that each brand possesses unique preferences and distinctive qualities that dynamically harmonize with the surrounding marketing context in large volumes of multi-modal content.We are seeking a passionate and driven ML engineer who thrives on challenges and brings deep expertise in generative AI technologies. Make a tremendous impact in our fast-paced, startup-like environment. Come create the future with us!ResponsibilitiesInnovate, lead, design, implement, and deliver innovative algorithmic solutions and exciting new features for addressing business requirements.Conduct analytical experiments using statistical techniques and large vision language model (LLMs, VLMs) research for generative modeling of trends and patterns in data.Craft scalable code for building services involving deep ML algorithms, such as deep learning, in programming languages such as Python, Scala.Directly engage with product managers and collaborators for implementing improvements to and optimizing operational systems for unparalleled scalability, efficiency, and performance.Mentor data scientists and engineers and guide innovative ways.Identify new product engagement opportunities by working closely with collaborators, customers, and team members.What You Need To SucceedMS or PhD in computer science or equivalent experience required. 3+ years of work experience specializing in natural language processing, computer vision, machine learning, statistics, generative AI, or related field. In-depth understanding of probability, statistics and machine learning, NLP or computer vision techniques, and model architectures (e.g., transformers, diffusion models, LLMs, vision language models, etc.)Proficient in data structures, and algorithms, along with software engineering guidelines such as maintaining coding standards, conducting code reviews, testing, and handling build processes. Expert programming skills in Python, as well as familiarity with ML frameworks such as PyTorch. Experience in developing and deploying machine learning solutions such as large language models and building REST APIs to expose their outcomes to UI. Experience with cloud computing platforms such as Azure and AWS and containerization tools, e.g., Docker and Kubernetes. Application Window NoticeIf this role is open to hiring in Colorado (as listed on the job posting), the application window will remain open until at least 12:01 AM Pacific Time, in compliance with Colorado pay transparency regulations. If this role does not have Colorado listed as a hiring location, no specific application window applies, and the posting may close at any time based on hiring needs.Our compensation reflects the cost of labor across several  U.S. geographic markets, and we pay differently based on those defined markets. The U.S. pay range for this position is $142,700 -- $257,600 annually. Pay within this range varies by work location and may also depend on job-related knowledge, skills, and experience. Your recruiter can share more about the specific salary range for the job location during the hiring process.At Adobe, for sales roles starting salaries are expressed as total target compensation (TTC = base + commission), and short-term incentives are in the form of sales commission plans. Non-sales roles starting salaries are expressed as base salary and short-term incentives are in the form of the Annual Incentive Plan (AIP).In addition, certain roles may be eligible for long-term incentives in the form of a new hire equity award.Adobe will consider qualified applicants with arrest or conviction records for employment in accordance with state and local laws and “fair chance” ordinances.Adobe is proud to be an Equal Employment Opportunity and affirmative action employer. We do not discriminate based on gender, race or color, ethnicity or national origin, age, disability, religion, sexual orientation, gender identity or expression, veteran status, or any other applicable characteristics protected by law. Learn more.Adobe aims to make Adobe.com accessible to any and all users. If you have a disability or special need that requires accommodation to navigate our website or complete the application process, email accommodations@adobe.com or call (408) 536-3015.Adobe values a free and open marketplace for all employees and has policies in place to ensure that we do not enter into illegal agreements with other companies to not recruit or hire each other’s employees.",
         "Entry level",
         "Machine Learning Engineer"
        ],
        [
         "3",
         "3",
         "2025-03-22",
         "Mountain View",
         "California",
         "Waymo",
         "https://waymo.com/careers/",
         "On the journey to be the world's most trusted driver. With the Waymo Driver, we can improve mobility while saving thousands of lives. Download the Waymo One app and ride today.\n\nWaymo reaches out to candidates from official channels only (e.g. directly from @waymo.com email addresses, or through our recruiters or sourcers who are noted as such on LinkedIn). We do not contact candidates about career opportunities through instant messaging apps like Telegram, email addresses from domains other than waymo.com (such as Gmail addresses), direct messages on Twitter, Facebook, and Instagram, or text messages. Visit waymo.com to check out our official job listings.",
         "Waymo is an autonomous driving technology company with the mission to be the most trusted driver. Since its start as the Google Self-Driving Car Project in 2009, Waymo has focused on building the Waymo Driver—The World's Most Experienced Driver™—to improve access to mobility while saving thousands of lives now lost to traffic crashes. The Waymo Driver powers Waymo One, a fully autonomous ride-hailing service, and can also be applied to a range of vehicle platforms and product use cases. The Waymo Driver has provided over one million rider-only trips, enabled by its experience autonomously driving tens of millions of miles on public roads and tens of billions in simulation across 13+ U.S. states.The Waymo ML Infrastructure team works with Research and Production teams to develop models in Perception and Planning that are core to our autonomous driving software. We ensure our partners by offering the best solutions for the entire model development lifecycle. These solutions are developed in close collaboration with teams at Google. They are geared towards both scaling models and solving problems unique to ML for autonomous driving.We develop a set of libraries and tools that enhance TensorFlow and JAX, and address scalability, reliability, and performance challenges faced by Waymo's ML practitioners: training fast and at scale, increasing ML accelerator efficiency, fine-tuning multimodal LLMs for autonomous driving tasks, discovering hyper-parameters, retraining neural networks, computing reliable and noiseless metrics on validation sets, and validating newly trained DNNs when deployed into the full onboard software stack.In this hybrid role, you will report to the Technical Lead Manager of Machine Learning Training.You WillDevelop the infrastructure components necessary for distributed training, including job scheduling, resource management, data distribution, and model synchronization.Implement automation solutions for provisioning, deployment, monitoring, and scaling of distributed training infrastructure to improve operations and reliability.Monitor system health, diagnose and troubleshoot issues, and perform routine maintenance tasks to ensure the reliability of the distributed training infrastructure.Identify performance bottlenecks and optimization opportunitiesImprove the developer experience and performance of our scalable ML frameworkYou HaveBachelor's degree in Computer Science, Engineering, or related field, or 2+ years equivalent experienceExperience with distributed systems principles and experience building distributed systems for production environments.Solid Python or C++ skillsPrior experience with Machine Learning frameworks (e.g., TensorFlow, PyTorch) and distributed training algorithmsDebug complex distributed systems issuesExperience communicating updates and resolutions to customers and other partnersWe PreferPractical familiarity using ML accelerator profiling tools to uncover performance bottlenecksFamiliarity with cloud computing platforms (e.g., AWS, Azure, GCP) and experience deploying and managing distributed systems in cloud environmentsKnowledge of optimization and deep learning algorithmsThe expected base salary range for this full-time position across US locations is listed below. Actual starting pay will be based on job-related factors, including exact work location, experience, relevant training and education, and skill level. Your recruiter can share more about the specific salary range for the role location or, if the role can be performed remote, the specific salary range for your preferred location, during the hiring process.Waymo employees are also eligible to participate in Waymo’s discretionary annual bonus program, equity incentive plan, and generous Company benefits program, subject to eligibility requirements.Salary Range$170,000—$216,000 USD",
         "Entry level",
         "Machine Learning Engineer, Training"
        ],
        [
         "4",
         "4",
         "2025-03-28",
         "Boston",
         "Massachusetts",
         "HMH",
         "http://www.hmhco.com",
         "We are an adaptive learning company that empowers educators. With a focus on what moves each learner, HMH delivers what teachers need to foster growth and build lasting momentum for all students. We create integrated K-12 learning solutions for core, supplemental, intervention, assessment, and professional learning--delivered on one streamlined platform. Our technology adapts to every learning environment, uncovering smarter insights about students and helping educators act on what motivates them.  ​​\n\n- 90% of U.S. K-12 schools use HMH programs.  ​​\n- 50 million students in 150 countries use HMH's research-backed learning programs.  ​​\n- 1.9 average years of student growth can be gained in one year by using HMH intervention solutions.  ​​\n\nLearn how HMH can help improve growth for every student in your district.  ",
         "Job Title: Machine Learning EngineerLocation: RemoteWho We AreNWEA® is a division of Houghton Mifflin Harcourt that supports students and educators through research, assessment solutions, policy and advocacy services, professional learning and school improvement services that fight for equity, drive classroom impact and push for systemic change in our educational communities. For nearly 50 years, NWEA has developed innovative pre-K–12 assessments, including their flagship interim assessment, MAP® Growth™ and their reading fluency and comprehension assessment, MAP® Reading Fluency™. For more information, visit NWEA.org to learn more.What You Will DoThe Machine Learning Engineer (ML engineer) contributes to the design, development, and deployment of real-world machine learning systems that facilitate and accelerate advanced AI solutions at scale. Machine learning engineers manage aspects of the machine learning pipeline, including sourcing and preparing data, building, and training models, and deploying to and monitoring models in production.ResponsibilitiesManage, maintain, scale, and improve machine learning models already running in production environments.Design, test, and deploy models to production, initially as a prototype, and then as an API that can serve predictions for end users.Design, run, and evaluate machine learning tests and experiments.Optimize and tweak machine learning models according to how they behave in production.Use CI/CD processes throughout the model development lifecycle to develop higher quality code and models without disruption to production. Provide technical support to data and product teams, helping relevant parties use and understand machine learning systems and datasets.Education And ExperienceMasters or Ph.D. in computer science, engineering, or quantitative field.2-3 years of hands-on experience in machine learning, data science, and analytics.Proficient with tools for machine learning pipeline management and monitoring (e.g., SageMaker, MLflow, Kubeflow).Proficient with machine learning algorithms, architectures, programming languages (e.g., Python, C++, R), and libraries (e.g., PyTorch, TensorFlow).Proficient with SQL and analytical warehouses (e.g., Snowflake).Familiarity with automation and deployment (e.g., Jenkins, GitHub actions, Concourse, etc.) and infrastructure as code (e.g., Terraform) technologies.Employed distributed processing frameworks such as Spark and Dask and has interacted with cloud platforms and container technologies.Practical knowledge of software engineering concepts and best practices, like testing frameworks, packaging, API design, DevOps, DataOps and MLOps.Excellent problem-solving skills and easily adapt to new technologies, trends, and frameworks.Demonstrated ability to elevate the machine learning discipline and foster a collaborative and high-performing environment.Salary range: 100k – 120k.Application DeadlineThe application window for this position is anticipated to close on March 31, 2025. We encourage you to apply as soon as possible. The posting may be available past this date but is not guaranteed.HMH is fully committed to Equal Employment Opportunity and to attracting, retaining, developing and promoting the most qualified employees without regard to race, gender, color, religion, sexual orientation, family status, marital status, pregnancy, gender identity, ethnic/national origin, ancestry, age, disability, military status, genetic predisposition, citizenship status, status as a disabled veteran, recently separated veteran, Armed Forces service medal veteran, other covered veteran, or any other characteristic protected by federal, state or local law. We are dedicated to providing a work environment free from discrimination and harassment, and where employees are treated with respect and dignity. We actively participate in E-Verify.",
         "Mid-Senior level",
         "Machine Learning Engineer"
        ]
       ],
       "shape": {
        "columns": 10,
        "rows": 5
       }
      },
      "text/html": [
       "<div>\n",
       "<style scoped>\n",
       "    .dataframe tbody tr th:only-of-type {\n",
       "        vertical-align: middle;\n",
       "    }\n",
       "\n",
       "    .dataframe tbody tr th {\n",
       "        vertical-align: top;\n",
       "    }\n",
       "\n",
       "    .dataframe thead th {\n",
       "        text-align: right;\n",
       "    }\n",
       "</style>\n",
       "<table border=\"1\" class=\"dataframe\">\n",
       "  <thead>\n",
       "    <tr style=\"text-align: right;\">\n",
       "      <th></th>\n",
       "      <th>Unnamed: 0</th>\n",
       "      <th>job_posted_date</th>\n",
       "      <th>company_address_locality</th>\n",
       "      <th>company_address_region</th>\n",
       "      <th>company_name</th>\n",
       "      <th>company_website</th>\n",
       "      <th>company_description</th>\n",
       "      <th>job_description_text</th>\n",
       "      <th>seniority_level</th>\n",
       "      <th>job_title</th>\n",
       "    </tr>\n",
       "  </thead>\n",
       "  <tbody>\n",
       "    <tr>\n",
       "      <th>0</th>\n",
       "      <td>0</td>\n",
       "      <td>2024-10-31</td>\n",
       "      <td>Indianapolis</td>\n",
       "      <td>Indiana</td>\n",
       "      <td>Upper Hand</td>\n",
       "      <td>https://upperhand.com</td>\n",
       "      <td>Upper Hand is the leading provider of full-sui...</td>\n",
       "      <td>OverviewUpper Hand is embarking on an exciting...</td>\n",
       "      <td>Internship</td>\n",
       "      <td>Internship - Machine Learning Engineer &amp; Data ...</td>\n",
       "    </tr>\n",
       "    <tr>\n",
       "      <th>1</th>\n",
       "      <td>1</td>\n",
       "      <td>2025-03-14</td>\n",
       "      <td>San Francisco</td>\n",
       "      <td>California</td>\n",
       "      <td>Ikigai</td>\n",
       "      <td>https://www.ikigailabs.io</td>\n",
       "      <td>Built upon years of MIT research, Ikigai is a ...</td>\n",
       "      <td>Company DescriptionThe Ikigai platform unlocks...</td>\n",
       "      <td>Mid-Senior level</td>\n",
       "      <td>Machine Learning Engineer</td>\n",
       "    </tr>\n",
       "    <tr>\n",
       "      <th>2</th>\n",
       "      <td>2</td>\n",
       "      <td>2025-04-09</td>\n",
       "      <td>San Jose</td>\n",
       "      <td>CA</td>\n",
       "      <td>Adobe</td>\n",
       "      <td>http://www.adobe.com</td>\n",
       "      <td>Adobe is the global leader in digital media an...</td>\n",
       "      <td>Our CompanyChanging the world through digital ...</td>\n",
       "      <td>Entry level</td>\n",
       "      <td>Machine Learning Engineer</td>\n",
       "    </tr>\n",
       "    <tr>\n",
       "      <th>3</th>\n",
       "      <td>3</td>\n",
       "      <td>2025-03-22</td>\n",
       "      <td>Mountain View</td>\n",
       "      <td>California</td>\n",
       "      <td>Waymo</td>\n",
       "      <td>https://waymo.com/careers/</td>\n",
       "      <td>On the journey to be the world's most trusted ...</td>\n",
       "      <td>Waymo is an autonomous driving technology comp...</td>\n",
       "      <td>Entry level</td>\n",
       "      <td>Machine Learning Engineer, Training</td>\n",
       "    </tr>\n",
       "    <tr>\n",
       "      <th>4</th>\n",
       "      <td>4</td>\n",
       "      <td>2025-03-28</td>\n",
       "      <td>Boston</td>\n",
       "      <td>Massachusetts</td>\n",
       "      <td>HMH</td>\n",
       "      <td>http://www.hmhco.com</td>\n",
       "      <td>We are an adaptive learning company that empow...</td>\n",
       "      <td>Job Title: Machine Learning EngineerLocation: ...</td>\n",
       "      <td>Mid-Senior level</td>\n",
       "      <td>Machine Learning Engineer</td>\n",
       "    </tr>\n",
       "  </tbody>\n",
       "</table>\n",
       "</div>"
      ],
      "text/plain": [
       "   Unnamed: 0 job_posted_date company_address_locality company_address_region  \\\n",
       "0           0      2024-10-31             Indianapolis                Indiana   \n",
       "1           1      2025-03-14            San Francisco             California   \n",
       "2           2      2025-04-09                 San Jose                     CA   \n",
       "3           3      2025-03-22            Mountain View             California   \n",
       "4           4      2025-03-28                   Boston          Massachusetts   \n",
       "\n",
       "  company_name             company_website  \\\n",
       "0   Upper Hand       https://upperhand.com   \n",
       "1       Ikigai   https://www.ikigailabs.io   \n",
       "2        Adobe        http://www.adobe.com   \n",
       "3        Waymo  https://waymo.com/careers/   \n",
       "4          HMH        http://www.hmhco.com   \n",
       "\n",
       "                                 company_description  \\\n",
       "0  Upper Hand is the leading provider of full-sui...   \n",
       "1  Built upon years of MIT research, Ikigai is a ...   \n",
       "2  Adobe is the global leader in digital media an...   \n",
       "3  On the journey to be the world's most trusted ...   \n",
       "4  We are an adaptive learning company that empow...   \n",
       "\n",
       "                                job_description_text   seniority_level  \\\n",
       "0  OverviewUpper Hand is embarking on an exciting...        Internship   \n",
       "1  Company DescriptionThe Ikigai platform unlocks...  Mid-Senior level   \n",
       "2  Our CompanyChanging the world through digital ...       Entry level   \n",
       "3  Waymo is an autonomous driving technology comp...       Entry level   \n",
       "4  Job Title: Machine Learning EngineerLocation: ...  Mid-Senior level   \n",
       "\n",
       "                                           job_title  \n",
       "0  Internship - Machine Learning Engineer & Data ...  \n",
       "1                          Machine Learning Engineer  \n",
       "2                          Machine Learning Engineer  \n",
       "3                Machine Learning Engineer, Training  \n",
       "4                          Machine Learning Engineer  "
      ]
     },
     "execution_count": 25,
     "metadata": {},
     "output_type": "execute_result"
    }
   ],
   "source": [
    "import pandas as pd\n",
    "\n",
    "jobs_df = pd.read_csv(\"ml_jobs/1000_ml_jobs_us.csv\")\n",
    "jobs_df.head()"
   ]
  },
  {
   "cell_type": "markdown",
   "id": "92dda966",
   "metadata": {},
   "source": [
    "Confirming at least one of my datasets meets capstone requirements to contain at least 1,000 rows and at least 10 columns.  Also, confirming that the data is a mix of quantitative and qualitative data. "
   ]
  },
  {
   "cell_type": "code",
   "execution_count": 16,
   "id": "5901314b",
   "metadata": {},
   "outputs": [
    {
     "name": "stdout",
     "output_type": "stream",
     "text": [
      "(146348, 11)\n",
      "Index(['work_year', 'experience_level', 'employment_type', 'job_title',\n",
      "       'salary', 'salary_currency', 'salary_in_usd', 'employee_residence',\n",
      "       'remote_ratio', 'company_location', 'company_size'],\n",
      "      dtype='object')\n",
      "work_year              int64\n",
      "experience_level      object\n",
      "employment_type       object\n",
      "job_title             object\n",
      "salary                 int64\n",
      "salary_currency       object\n",
      "salary_in_usd          int64\n",
      "employee_residence    object\n",
      "remote_ratio           int64\n",
      "company_location      object\n",
      "company_size          object\n",
      "dtype: object\n"
     ]
    }
   ],
   "source": [
    "import pandas as pd\n",
    "salaries_df = pd.read_csv(\"ds_salaries/salaries.csv\")\n",
    "print(salaries_df.shape)\n",
    "print(salaries_df.columns)\n",
    "print(salaries_df.dtypes)"
   ]
  },
  {
   "cell_type": "markdown",
   "id": "4370c47f",
   "metadata": {},
   "source": [
    "Checking same elements for the jobs dataframe."
   ]
  },
  {
   "cell_type": "code",
   "execution_count": 17,
   "id": "5319813e",
   "metadata": {},
   "outputs": [
    {
     "name": "stdout",
     "output_type": "stream",
     "text": [
      "(997, 10)\n",
      "Index(['Unnamed: 0', 'job_posted_date', 'company_address_locality',\n",
      "       'company_address_region', 'company_name', 'company_website',\n",
      "       'company_description', 'job_description_text', 'seniority_level',\n",
      "       'job_title'],\n",
      "      dtype='object')\n",
      "Unnamed: 0                   int64\n",
      "job_posted_date             object\n",
      "company_address_locality    object\n",
      "company_address_region      object\n",
      "company_name                object\n",
      "company_website             object\n",
      "company_description         object\n",
      "job_description_text        object\n",
      "seniority_level             object\n",
      "job_title                   object\n",
      "dtype: object\n"
     ]
    }
   ],
   "source": [
    "import pandas as pd\n",
    "jobs_df = pd.read_csv(\"ml_jobs/1000_ml_jobs_us.csv\")\n",
    "print(jobs_df.shape)\n",
    "print(jobs_df.columns)\n",
    "print(jobs_df.dtypes)"
   ]
  },
  {
   "cell_type": "markdown",
   "id": "ffd3bb1f",
   "metadata": {},
   "source": [
    "Normalizing Job Titles in both dataframes will help make sure the job titles mean the same thing across both datasets, even if they are written differently. Standardizing helps bring consistency. Below, I converted to lower case, removed punctuation, and stripped whitespace."
   ]
  },
  {
   "cell_type": "code",
   "execution_count": 5,
   "id": "5b6b8d79",
   "metadata": {},
   "outputs": [
    {
     "name": "stdout",
     "output_type": "stream",
     "text": [
      "0    internship  machine learning engineer  data sc...\n",
      "1                            machine learning engineer\n",
      "2                            machine learning engineer\n",
      "3                   machine learning engineer training\n",
      "4                            machine learning engineer\n",
      "Name: clean_job_title, dtype: object\n",
      "0                    analyst\n",
      "1                    analyst\n",
      "2          data quality lead\n",
      "3          data quality lead\n",
      "4    data quality specialist\n",
      "Name: clean_job_title, dtype: object\n"
     ]
    }
   ],
   "source": [
    "import re\n",
    "\n",
    "def clean_job_title(title: str) -> str:\n",
    "    \"\"\"\n",
    "    Cleans the job title by removing special characters and converting to lowercase.\n",
    "\n",
    "    Parameters:\n",
    "    title (str): The job title to clean.\n",
    "\n",
    "    Returns:\n",
    "    str: The cleaned job title.\n",
    "    \"\"\"\n",
    "\n",
    "    if pd.isnull(title):\n",
    "        return \"\"\n",
    "    title = title.lower()\n",
    "    title = re.sub(r\"[^\\w\\s]\", \"\", title)\n",
    "    title = title.strip()\n",
    "    return title\n",
    "\n",
    "jobs_df = pd.read_csv(\"ml_jobs/1000_ml_jobs_us.csv\")\n",
    "salaries_df = pd.read_csv(\"ds_salaries/salaries.csv\")\n",
    "\n",
    "\n",
    "if 'job_title' in jobs_df.columns:\n",
    "    jobs_df['clean_job_title'] = jobs_df['job_title'].apply(clean_job_title)\n",
    "if 'job_title' in salaries_df.columns:\n",
    "    salaries_df['clean_job_title'] = salaries_df['job_title'].apply(clean_job_title)\n",
    "print(jobs_df['clean_job_title'].head())\n",
    "print(salaries_df['clean_job_title'].head())"
   ]
  },
  {
   "cell_type": "markdown",
   "id": "6e050f3f",
   "metadata": {},
   "source": [
    "Cleaning data in both dataframes by replacing partial matches with clean, consistent job titles."
   ]
  },
  {
   "cell_type": "code",
   "execution_count": 6,
   "id": "0ea68047",
   "metadata": {},
   "outputs": [],
   "source": [
    "import re\n",
    "\n",
    "def clean_job_title(title):\n",
    "    if re.search(r'analy', title):\n",
    "        return 'analyst'\n",
    "    elif re.search('data engineer', title):\n",
    "        return 'Data Engineer'\n",
    "    elif re.search(r'machine', title):\n",
    "        return 'Machine Learning Engineer'\n",
    "    elif re.search(r'ml', title):\n",
    "        return 'Machine Learning Engineer'\n",
    "    elif re.search(r'scien', title):\n",
    "        return 'Data Scientist'\n",
    "    elif re.search(r'software engineer', title):\n",
    "        return 'Software Engineer'\n",
    "    else:\n",
    "        return title.title()\n",
    "    \n",
    "jobs_df['job_title_clean'] = jobs_df['job_title'].apply(clean_job_title)\n",
    "\n",
    "salaries_df['job_title_clean'] = salaries_df['job_title'].apply(clean_job_title)\n",
    "\n",
    "\n",
    "\n",
    "  "
   ]
  },
  {
   "cell_type": "markdown",
   "id": "1bad2654",
   "metadata": {},
   "source": [
    "Renaming the Experience_Level in Salaries_df to match Seniority_Level in jobs-df."
   ]
  },
  {
   "cell_type": "code",
   "execution_count": 7,
   "id": "939511d5",
   "metadata": {},
   "outputs": [],
   "source": [
    "salaries_df.rename(columns={'experience_level': 'seniority_level'}, inplace=True)"
   ]
  },
  {
   "cell_type": "code",
   "execution_count": 8,
   "id": "75bda9e4",
   "metadata": {},
   "outputs": [
    {
     "name": "stdout",
     "output_type": "stream",
     "text": [
      "Index(['work_year', 'seniority_level', 'employment_type', 'job_title',\n",
      "       'salary', 'salary_currency', 'salary_in_usd', 'employee_residence',\n",
      "       'remote_ratio', 'company_location', 'company_size', 'clean_job_title',\n",
      "       'job_title_clean'],\n",
      "      dtype='object')\n",
      "Index(['Unnamed: 0', 'job_posted_date', 'company_address_locality',\n",
      "       'company_address_region', 'company_name', 'company_website',\n",
      "       'company_description', 'job_description_text', 'seniority_level',\n",
      "       'job_title', 'clean_job_title', 'job_title_clean'],\n",
      "      dtype='object')\n"
     ]
    }
   ],
   "source": [
    "print(salaries_df.columns)\n",
    "print(jobs_df.columns)"
   ]
  },
  {
   "cell_type": "markdown",
   "id": "9ffa6700",
   "metadata": {},
   "source": [
    "Normalizing the seniority_level column values in both dataframes."
   ]
  },
  {
   "cell_type": "code",
   "execution_count": 9,
   "id": "c0dffb28",
   "metadata": {},
   "outputs": [
    {
     "name": "stdout",
     "output_type": "stream",
     "text": [
      "['entry-level' 'senior level' 'Not Applicable' 'mid-level/intermediate'\n",
      " nan 'executive/director']\n",
      "['mid-level/intermediate' 'senior level' 'executive/director'\n",
      " 'entry-level']\n"
     ]
    }
   ],
   "source": [
    "def map_seniority_level(level: str) -> str:\n",
    "    \"\"\"\n",
    "    Maps the seniority level to a standardized format.\n",
    "\n",
    "    Parameters:\n",
    "    level (str): The seniority level to map.\n",
    "\n",
    "    Returns:\n",
    "    str: The standardized seniority level.\n",
    "    \"\"\"\n",
    "    \n",
    "seniority_mapping = {\n",
    "    'Entry level': 'entry-level',\n",
    "    'Internship': 'entry-level',\n",
    "    'EN': 'entry-level',\n",
    "    'mid-level/intermediate': 'mid-level/intermediate',\n",
    "    'Associate': 'mid-level/intermediate',\n",
    "    'MI': 'mid-level/intermediate',\n",
    "    'senior level': 'senior level',\n",
    "    'Mid-Senior level': 'senior level',\n",
    "    'SE': 'senior level',\n",
    "    'Executive': 'executive/director',\n",
    "    'executive/director': 'executive/director',\n",
    "    'Director': 'executive/director',\n",
    "    'EX': 'executive/director'\n",
    "}\n",
    "\n",
    "jobs_df['seniority_level'] = jobs_df['seniority_level'].replace(seniority_mapping)\n",
    "salaries_df['seniority_level'] = salaries_df['seniority_level'].replace(seniority_mapping)\n",
    "\n",
    "print(jobs_df['seniority_level'].unique())\n",
    "\n",
    "print(salaries_df['seniority_level'].unique())\n",
    "\n"
   ]
  },
  {
   "cell_type": "markdown",
   "id": "e65c39d5",
   "metadata": {},
   "source": [
    "Dropping rows from the jobs_df that contains the Not Applicable and Nan seniority level."
   ]
  },
  {
   "cell_type": "code",
   "execution_count": 10,
   "id": "32409889",
   "metadata": {},
   "outputs": [
    {
     "name": "stdout",
     "output_type": "stream",
     "text": [
      "['entry-level' 'senior level' 'mid-level/intermediate'\n",
      " 'executive/director']\n"
     ]
    }
   ],
   "source": [
    "jobs_df[\"seniority_level\"] = jobs_df[\"seniority_level\"].str.strip().str.lower()\n",
    "\n",
    "\n",
    "jobs_df = jobs_df[\n",
    "    (jobs_df[\"seniority_level\"] != \"not applicable\") &\n",
    "    (jobs_df[\"seniority_level\"].notna())]\n",
    "\n",
    "print(jobs_df[\"seniority_level\"].unique())"
   ]
  },
  {
   "cell_type": "markdown",
   "id": "ef0fe248",
   "metadata": {},
   "source": [
    "Since there are several job titles that appear to be overlapping, I've standardized the job titles and seniority levels.  Now, I'd like to only keep the rows where the job title exactly matches one the allowed values that I standardized to."
   ]
  },
  {
   "cell_type": "code",
   "execution_count": 11,
   "id": "cc4ae5c2",
   "metadata": {},
   "outputs": [
    {
     "name": "stdout",
     "output_type": "stream",
     "text": [
      "['machine learning engineer' 'data scientist' 'software engineer'\n",
      " 'data engineer']\n",
      "['software engineer' 'machine learning engineer' 'data scientist'\n",
      " 'data engineer']\n"
     ]
    }
   ],
   "source": [
    "allowed_titles = ['data engineer', 'machine learning engineer', 'data scientist', 'software engineer']\n",
    "\n",
    "jobs_df['job_title'] = jobs_df['job_title'].str.lower()\n",
    "salaries_df['job_title'] = salaries_df['job_title'].str.lower()\n",
    "\n",
    "jobs_df = jobs_df[jobs_df['job_title'].isin(allowed_titles)]\n",
    "salaries_df = salaries_df[salaries_df['job_title'].str.lower().isin(allowed_titles)]\n",
    "\n",
    "print(jobs_df['job_title'].unique())\n",
    "\n",
    "print(salaries_df['job_title'].unique())\n",
    "\n"
   ]
  },
  {
   "cell_type": "markdown",
   "id": "cfc5f0ce",
   "metadata": {},
   "source": [
    "Adding another column to each dataframe that joins job title and seniority level"
   ]
  },
  {
   "cell_type": "code",
   "execution_count": 12,
   "id": "d0d85613",
   "metadata": {},
   "outputs": [
    {
     "name": "stdout",
     "output_type": "stream",
     "text": [
      "                                      role_with_level\n",
      "1            machine learning engineer - senior level\n",
      "2             machine learning engineer - entry-level\n",
      "4            machine learning engineer - senior level\n",
      "9   machine learning engineer - mid-level/intermed...\n",
      "10            machine learning engineer - entry-level\n",
      "                                      role_with_level\n",
      "8          software engineer - mid-level/intermediate\n",
      "9          software engineer - mid-level/intermediate\n",
      "10           machine learning engineer - senior level\n",
      "11           machine learning engineer - senior level\n",
      "12  machine learning engineer - mid-level/intermed...\n"
     ]
    }
   ],
   "source": [
    "def assign_role_with_level(job_title: str, seniority_level: str) -> str:\n",
    "    \"\"\"\n",
    "    Assigns a role with level based on job title and seniority level.\n",
    "\n",
    "    Parameters:\n",
    "    job_title (str): The job title.\n",
    "    seniority_level (str): The seniority level.\n",
    "\n",
    "    Returns:\n",
    "    str: The role with level.\n",
    "    \"\"\"\n",
    "    \n",
    "jobs_df['role_with_level'] = jobs_df.apply(\n",
    "    lambda row: f\"{row['job_title']} - {row['seniority_level']}\", axis=1)\n",
    "salaries_df['role_with_level'] = salaries_df.apply(\n",
    "    lambda row: f\"{row['job_title']} - {row['seniority_level']}\", axis=1)   \n",
    "\n",
    "print(jobs_df[['role_with_level']].head())\n",
    "\n",
    "print(salaries_df[['role_with_level']].head())\n"
   ]
  },
  {
   "cell_type": "markdown",
   "id": "4de213d0",
   "metadata": {},
   "source": [
    "Checking column headings now for both databases to make sure the new column was added."
   ]
  },
  {
   "cell_type": "code",
   "execution_count": 13,
   "id": "ed73d77b",
   "metadata": {},
   "outputs": [
    {
     "name": "stdout",
     "output_type": "stream",
     "text": [
      "Jobs DataFrame columns:\n",
      "['Unnamed: 0', 'job_posted_date', 'company_address_locality', 'company_address_region', 'company_name', 'company_website', 'company_description', 'job_description_text', 'seniority_level', 'job_title', 'clean_job_title', 'job_title_clean', 'role_with_level']\n",
      "Salaries DataFrame columns:\n",
      "['work_year', 'seniority_level', 'employment_type', 'job_title', 'salary', 'salary_currency', 'salary_in_usd', 'employee_residence', 'remote_ratio', 'company_location', 'company_size', 'clean_job_title', 'job_title_clean', 'role_with_level']\n"
     ]
    }
   ],
   "source": [
    "print('Jobs DataFrame columns:')\n",
    "print(jobs_df.columns.tolist())\n",
    "\n",
    "print('Salaries DataFrame columns:')\n",
    "print(salaries_df.columns.tolist())"
   ]
  },
  {
   "cell_type": "markdown",
   "id": "04985a1c",
   "metadata": {},
   "source": [
    "Removing the Unnamed column in the Jobs DataFrame.  This column is the index column. Also, to reduce the size of my SQL database, I am removing the following columns from the Jobs DataFrame:  job posted date, company name, company address locality, company name, company website, company description and job description.  From the Salaries DataFrame, I'm removing: working year, salary, and salary currency"
   ]
  },
  {
   "cell_type": "code",
   "execution_count": 14,
   "id": "5a60fb47",
   "metadata": {},
   "outputs": [
    {
     "name": "stdout",
     "output_type": "stream",
     "text": [
      "Jobs DataFrame columns:\n",
      "['company_address_region', 'company_description', 'job_description_text', 'seniority_level', 'job_title', 'clean_job_title', 'job_title_clean', 'role_with_level']\n",
      "Salaries DataFrame columns:\n",
      "['seniority_level', 'employment_type', 'job_title', 'salary_in_usd', 'employee_residence', 'remote_ratio', 'company_location', 'company_size', 'clean_job_title', 'job_title_clean', 'role_with_level']\n"
     ]
    }
   ],
   "source": [
    "jobs_df = jobs_df.drop(columns=['Unnamed: 0', 'job_posted_date', 'company_address_locality', 'company_name', 'company_website', 'company_description' 'job_description_text'], errors='ignore')\n",
    "\n",
    "salaries_df = salaries_df.drop(columns=['work_year', 'salary', 'salary_currency'], errors='ignore')\n",
    "\n",
    "print('Jobs DataFrame columns:')\n",
    "print(jobs_df.columns.tolist())\n",
    "\n",
    "print('Salaries DataFrame columns:')\n",
    "print(salaries_df.columns.tolist())\n"
   ]
  },
  {
   "cell_type": "markdown",
   "id": "54dec2f6",
   "metadata": {},
   "source": [
    "Now I'm ready to begin my SQL work, so I'll import sqlite3 and do a join of my two databases.  I'd like to keep the salaries_df as my primary table and use the joined matching columns (job title + seniority_level) as the primary key."
   ]
  },
  {
   "cell_type": "code",
   "execution_count": 15,
   "id": "f1db8a30",
   "metadata": {},
   "outputs": [
    {
     "name": "stdout",
     "output_type": "stream",
     "text": [
      "                            salary_role_level  salary_in_usd company_location  \\\n",
      "0  software engineer - mid-level/intermediate         240240               US   \n",
      "1  software engineer - mid-level/intermediate         214032               US   \n",
      "2    machine learning engineer - senior level         166000               US   \n",
      "3    machine learning engineer - senior level         166000               US   \n",
      "4    machine learning engineer - senior level         166000               US   \n",
      "\n",
      "  company_size                           jobs_role_level  \n",
      "0            M                                      None  \n",
      "1            M                                      None  \n",
      "2            M  machine learning engineer - senior level  \n",
      "3            M  machine learning engineer - senior level  \n",
      "4            M  machine learning engineer - senior level  \n",
      "Joined table shape: (1028569, 5)\n"
     ]
    }
   ],
   "source": [
    "import sqlite3\n",
    "import pandas as pd\n",
    "\n",
    "conn = sqlite3.connect('job_salaries.db')\n",
    "salaries_df.to_sql('salaries', conn, index=False, if_exists='replace')\n",
    "jobs_df.to_sql('jobs', conn, index=False, if_exists='replace')\n",
    "\n",
    "query = \"\"\"\n",
    "SELECT\n",
    "    s.role_with_level AS salary_role_level,\n",
    "    s.salary_in_usd,\n",
    "    s.company_location,\n",
    "    s.company_size,\n",
    "    j.role_with_level AS jobs_role_level\n",
    "FROM salaries s\n",
    "LEFT JOIN jobs j\n",
    "    ON s.role_with_level = j.role_with_level\n",
    "\"\"\"\n",
    "joined_df = pd.read_sql_query(query, conn)\n",
    "\n",
    "print(joined_df.head())\n",
    "print(f'Joined table shape: {joined_df.shape}')\n",
    "\n",
    "conn.close()\n"
   ]
  },
  {
   "cell_type": "markdown",
   "id": "de8c5e21",
   "metadata": {},
   "source": [
    "Printing column names of joined database."
   ]
  },
  {
   "cell_type": "code",
   "execution_count": 18,
   "id": "d5eeea23",
   "metadata": {},
   "outputs": [
    {
     "name": "stdout",
     "output_type": "stream",
     "text": [
      "Index(['salary_role_level', 'salary_in_usd', 'company_location',\n",
      "       'company_size', 'jobs_role_level'],\n",
      "      dtype='object')\n"
     ]
    }
   ],
   "source": [
    "print(joined_df.columns)"
   ]
  },
  {
   "cell_type": "markdown",
   "id": "3843d054",
   "metadata": {},
   "source": [
    "Now, I'll be adding three data visualizations.  To begin, I'll pip install matplotlib and seaborn.\n",
    "\n",
    "The first is a Bar Chart showing average salary by role (job title + seniority).  This will show which job titles/seniority level combinations earn most on average. \n",
    "\n",
    "The second is a Boxplot showing salary distributions by Job Title.\n",
    "\n",
    "The third is a Scatter Plot comparing salaries by seniority."
   ]
  },
  {
   "cell_type": "code",
   "execution_count": 19,
   "id": "19147789",
   "metadata": {},
   "outputs": [
    {
     "data": {
      "image/png": "[encoded data removed]",
      "text/plain": [
       "<Figure size 1200x800 with 1 Axes>"
      ]
     },
     "metadata": {},
     "output_type": "display_data"
    }
   ],
   "source": [
    "import matplotlib.pyplot as plt\n",
    "import pandas as pd\n",
    "\n",
    "average_salary_by_role = (joined_df.groupby('salary_role_level')['salary_in_usd']\n",
    "    .mean().sort_values(ascending=False))\n",
    "\n",
    "plt.figure(figsize=(12, 8))\n",
    "average_salary_by_role.plot(kind='bar', color='skyblue')\n",
    "plt.title('Average Salary by Role and Seniority Level', fontsize=16)\n",
    "plt.xlabel('Role and Seniority Level', fontsize=12)\n",
    "plt.ylabel('Average Salary (USD)', fontsize=12)\n",
    "plt.xticks(rotation=45, ha='right')\n",
    "plt.tight_layout()\n",
    "plt.show()"
   ]
  },
  {
   "cell_type": "code",
   "execution_count": null,
   "id": "489e6845",
   "metadata": {},
   "outputs": [],
   "source": []
  }
 ],
 "metadata": {
  "kernelspec": {
   "display_name": "venv",
   "language": "python",
   "name": "python3"
  },
  "language_info": {
   "codemirror_mode": {
    "name": "ipython",
    "version": 3
   },
   "file_extension": ".py",
   "mimetype": "text/x-python",
   "name": "python",
   "nbconvert_exporter": "python",
   "pygments_lexer": "ipython3",
   "version": "3.13.2"
  }
 },
 "nbformat": 4,
 "nbformat_minor": 5
}
